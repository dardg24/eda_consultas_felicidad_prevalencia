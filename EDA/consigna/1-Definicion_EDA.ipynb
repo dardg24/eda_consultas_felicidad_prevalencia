{
 "cells": [
  {
   "cell_type": "markdown",
   "metadata": {},
   "source": [
    "![imagen](./img/ejercicios.png)"
   ]
  },
  {
   "cell_type": "markdown",
   "metadata": {},
   "source": [
    "# INFORMACIÓN DEL PROYECTO"
   ]
  },
  {
   "cell_type": "markdown",
   "metadata": {},
   "source": [
    "### TÍTULO"
   ]
  },
  {
   "cell_type": "code",
   "execution_count": 1,
   "metadata": {},
   "outputs": [
    {
     "data": {
      "text/plain": [
       "'Naturaleza interdisciplinaria de los conjuntos de datos con un enfoque integral sobre la importancia de la salud mental y el bienestar emocional en la sociedad moderna.'"
      ]
     },
     "execution_count": 1,
     "metadata": {},
     "output_type": "execute_result"
    }
   ],
   "source": [
    "#Escribe el título del proyecto en Markdown\n",
    "# Otras opciones de titulos\n",
    "\"\"\"\n",
    "\"Tendencias y Perspectivas: Un Vistazo Integral a la Salud Mental\"\n",
    "\"Conectando Datos para Entender la Salud Mental y el Bienestar\"\n",
    "\"El Impacto Social de la Salud Mental: Un Estudio de Datos Múltiples\"\n",
    "\n",
    "\"\"\"\n",
    "titulo = \"Salud Mental y Bienestar en la Sociedad Moderna: Un Análisis Interdisciplinario.\"\n",
    "titulo"
   ]
  },
  {
   "cell_type": "markdown",
   "metadata": {},
   "source": [
    "### TEMA"
   ]
  },
  {
   "cell_type": "code",
   "execution_count": null,
   "metadata": {},
   "outputs": [],
   "source": [
    "# Describe brevemente el tema del proyecto en Markdown\n",
    "tema = \"\"\"Hoy tengo la oportunidad de explorar un tema que impacta en cada rincón de nuestra sociedad, \n",
    "            pero que a menudo es mal entendido o subestimado: la salud mental y el bienestar emocional. \n",
    "            \n",
    "            A través de la lente de tres conjuntos de datos únicos, vamos a sumergirnos en diferentes aspectos que conforman esta compleja red.\n",
    "            \n",
    "            El primer conjunto de datos nos ofrecerá una visión sobre la evolución de las consultas psicológicas en Portugal,\n",
    "            lo que nos permitirá entender mejor las tendencias y quizás identificar patrones en la búsqueda de ayuda psicológica.\n",
    "            \n",
    "            En segundo lugar, analizaremos el Índice de la Felicidad Mundial hasta el año 2022 o 2023.\n",
    "            Este índice es un barómetro no solo de la prosperidad económica, sino también del bienestar emocional y social en diferentes países.\n",
    "            \n",
    "            Por último, pero no menos importante, exploraremos un conjunto de datos que se centra en la salud mental en general, \n",
    "            incluyendo su impacto en nuestras emociones, psicología y bienestar social. \n",
    "            Esto nos dará una visión completa de cómo la salud mental afecta a diferentes etapas de la vida, desde la infancia hasta la edad adulta.\n",
    "\"\"\""
   ]
  },
  {
   "cell_type": "markdown",
   "metadata": {},
   "source": [
    "### HIPÓTESIS"
   ]
  },
  {
   "cell_type": "markdown",
   "metadata": {},
   "source": [
    "Define aquí lo que será la hipótesis de tu proyecto.\n",
    "Deberás tener más de una, pero tu proyecto lo harás teniendo una principal hipótesis."
   ]
  },
  {
   "cell_type": "code",
   "execution_count": null,
   "metadata": {},
   "outputs": [],
   "source": [
    "# Escribe tu hipótesis principal en Markdown\n",
    "hipotesis_1 = \"\"\"\n",
    "                Deterioro de la Salud Mental en la Sociedad Moderna:\n",
    "                \n",
    "                La creciente necesidad de consultas psicológicas sugiere un deterioro general de la salud mental en la sociedad moderna.\n",
    "                \"\"\""
   ]
  },
  {
   "cell_type": "code",
   "execution_count": null,
   "metadata": {},
   "outputs": [],
   "source": [
    "Escribe más hipótesis si las hubiera en Markdown\n",
    "hipotesis_2 = \"\"\"\n",
    "                Saturación de los Sistemas de Salud en Portugal: \n",
    "                \n",
    "                El incremento en las consultas psicológicas podría estar saturando los sistemas de salud nacionales en Portugal,\n",
    "                evidenciando la necesidad de más profesionales en el campo de la salud mental.\n",
    "\"\"\"\n",
    "hipotesis_3 = \"\"\"\n",
    "                Impacto de la COVID-19 en la Salud Mental: \n",
    "                La pandemia de COVID-19 ha tenido un impacto significativo en la salud mental de la población,\n",
    "                lo cual se refleja en un aumento de las consultas psicológicas durante los años de la pandemia.\n",
    "\"\"\"\n",
    "hipotesis_4 = \"\"\n",
    "hipotesis_5 = \"\"\n",
    "...\n"
   ]
  },
  {
   "cell_type": "markdown",
   "metadata": {},
   "source": [
    "## Hipótesis para el Proyecto de Salud Mental y Bienestar\n",
    "\n",
    "### Hipótesis Principales:\n",
    "\n",
    "1. **Deterioro de la Salud Mental en la Sociedad Moderna**: \n",
    "    - La creciente necesidad de consultas psicológicas sugiere un deterioro general de la salud mental en la sociedad moderna.\n",
    "\n",
    "2. **Saturación de los Sistemas de Salud en Portugal**: \n",
    "    - El incremento en las consultas psicológicas podría estar saturando los sistemas de salud nacionales en Portugal, evidenciando la necesidad de más profesionales en el campo de la salud mental.\n",
    "\n",
    "3. **Impacto de la COVID-19 en la Salud Mental**: \n",
    "    - La pandemia de COVID-19 ha tenido un impacto significativo en la salud mental de la población, lo cual se refleja en un aumento de las consultas psicológicas durante los años de la pandemia.\n",
    "\n",
    "---\n",
    "\n",
    "### Hipótesis Adicionales:\n",
    "\n",
    "4. **Relación entre Felicidad Nacional e Incidencia de Consultas Psicológicas**: \n",
    "    - Existe una correlación inversa entre los índices de felicidad y el número de consultas psicológicas en diferentes países o regiones.\n",
    "\n",
    "5. **Efecto Generacional en la Salud Mental**: \n",
    "    - Las diferentes generaciones muestran patrones distintos en cuanto a su salud mental, reflejados en las tasas de consultas psicológicas.\n",
    "\n",
    "6. **Desigualdades Socioeconómicas y Acceso a la Salud Mental**: \n",
    "    - La accesibilidad a servicios de salud mental varía significativamente según el nivel socioeconómico, lo cual podría estar reflejado en las estadísticas de consultas psicológicas.\n",
    "\n",
    "7. **Impacto de Políticas Públicas en la Salud Mental**: \n",
    "    - La implementación de políticas públicas relacionadas con la salud mental tiene un impacto medible en las estadísticas de consultas psicológicas y en índices de bienestar.\n",
    "\n",
    "8. **Factores Estacionales en la Salud Mental**: \n",
    "    - Existen períodos del año donde las consultas psicológicas aumentan, posiblemente relacionados con factores como el clima, épocas festivas o periodos escolares.\n",
    "\n",
    "9. **Correlación entre Salud Mental y Uso de Redes Sociales**: \n",
    "    - El uso de redes sociales podría estar correlacionado con tendencias en la salud mental, reflejadas en las estadísticas de consultas psicológicas.\n"
   ]
  },
  {
   "cell_type": "markdown",
   "metadata": {},
   "source": [
    "## OBTENCIÓN DE LOS DATOS"
   ]
  },
  {
   "cell_type": "markdown",
   "metadata": {},
   "source": [
    "### DATASETS Y FUENTES ALTERNATIVAS DE DATOS"
   ]
  },
  {
   "cell_type": "markdown",
   "metadata": {},
   "source": [
    "Incluye aquí una vista del dataset o datasets de los que partirás para poder evaluar tu hipótesis. <br>\n",
    "También incluye el origen de estos datos y su fuente."
   ]
  },
  {
   "cell_type": "code",
   "execution_count": null,
   "metadata": {},
   "outputs": [],
   "source": [
    "import pandas as pd\n",
    "# Guarda en variables los DataSets y su fuente\n",
    "df_consultas = pd.read_csv('data/evolucao_mensal_das_consultas_de_psicologia.csv' ,sep=';')\n",
    "fuente_1 = \"https://data.europa.eu/data/datasets/640aab470781907109a3d509?locale=es\"\n",
    "\n",
    "# Estoy considerando si incluir otro DataSet más con los datos hasta el 2023 pero tengo que bucear en los datos para ver si los puedo unir y agregar un año más al indice\n",
    "# De felicidad mundial\n",
    "df_felicidad = pd.read_csv('data/world_hapinnes_record.csv')\n",
    "fuente_2 = \"https://www.kaggle.com/datasets/usamabuttar/world-happiness-report-2005-present/data\"\n",
    "fuente_2b = 'https://www.kaggle.com/datasets/ajaypalsinghlo/world-happiness-report-2023'\n",
    "# Con este DataSet tengo varios que aparecen en la fuente, los tengo en la carpeta data pero aún no he decido con cuales voy a trabajar\n",
    "# De los que aparecen\n",
    "\n",
    "df_mental = pd.read_csv('data/mental-and-substance-use-as-share-of-disease.csv')\n",
    "fuente_3 = \"https://www.kaggle.com/datasets/programmerrdai/mental-health-dataset?select=prevalence-of-depression-males-vs-females.csv\""
   ]
  },
  {
   "cell_type": "markdown",
   "metadata": {},
   "source": [
    "Muestra mediante un head() los principales datasets con los que vas a trabajar"
   ]
  },
  {
   "cell_type": "code",
   "execution_count": null,
   "metadata": {},
   "outputs": [],
   "source": [
    "# Primer DataSet\n",
    "df_consultas.head()"
   ]
  },
  {
   "cell_type": "code",
   "execution_count": null,
   "metadata": {},
   "outputs": [],
   "source": [
    "# Segundo DataSet\n",
    "df_felicidad.head()"
   ]
  },
  {
   "cell_type": "code",
   "execution_count": null,
   "metadata": {},
   "outputs": [],
   "source": [
    "# Tercer DataSet\n",
    "df_mental.head()"
   ]
  }
 ],
 "metadata": {
  "kernelspec": {
   "display_name": "Python 3.7.4 64-bit",
   "language": "python",
   "name": "python3"
  },
  "language_info": {
   "codemirror_mode": {
    "name": "ipython",
    "version": 3
   },
   "file_extension": ".py",
   "mimetype": "text/x-python",
   "name": "python",
   "nbconvert_exporter": "python",
   "pygments_lexer": "ipython3",
   "version": "3.11.4"
  },
  "orig_nbformat": 4,
  "vscode": {
   "interpreter": {
    "hash": "90139cb9a825bf3d63f6f6704e828dbd1ff7edbd4d0c6e906a71235d6efc74af"
   }
  }
 },
 "nbformat": 4,
 "nbformat_minor": 2
}
