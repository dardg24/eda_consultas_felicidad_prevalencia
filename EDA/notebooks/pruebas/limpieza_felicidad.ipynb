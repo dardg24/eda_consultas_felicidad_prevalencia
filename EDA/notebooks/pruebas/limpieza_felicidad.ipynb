{
 "cells": [
  {
   "cell_type": "code",
   "execution_count": null,
   "metadata": {},
   "outputs": [],
   "source": [
    "import pandas as pd\n",
    "import numpy as np\n",
    "import requests\n",
    "import zipfile"
   ]
  },
  {
   "cell_type": "code",
   "execution_count": null,
   "metadata": {},
   "outputs": [],
   "source": [
    "# Me tomo esta clase para hacer displays\n",
    "\n",
    "class display(object):\n",
    "    \"\"\"Representador HTML de múltiples objetos\"\"\"\n",
    "    template = \"\"\"<div style=\"float: left; padding: 10px;\">\n",
    "    <p style='font-family:\"Courier New\", Courier, monospace'>{0}</p>{1}\n",
    "    </div>\"\"\"\n",
    "    def __init__(self, *args):\n",
    "        self.args = args\n",
    "        \n",
    "    def _repr_html_(self):\n",
    "        return '\\n'.join(self.template.format(a, eval(a)._repr_html_())\n",
    "                         for a in self.args)\n",
    "    \n",
    "    def __repr__(self):\n",
    "        return '\\n\\n'.join(a + '\\n' + repr(eval(a))\n",
    "                           for a in self.args)"
   ]
  },
  {
   "cell_type": "code",
   "execution_count": null,
   "metadata": {},
   "outputs": [],
   "source": [
    "df_felicidad = pd.read_csv('data/world_hapinnes_record.csv')\n",
    "df_felicidad"
   ]
  },
  {
   "cell_type": "code",
   "execution_count": null,
   "metadata": {},
   "outputs": [],
   "source": [
    "df_felicidad.head()"
   ]
  },
  {
   "cell_type": "code",
   "execution_count": null,
   "metadata": {},
   "outputs": [],
   "source": [
    "df_felicidad.info()"
   ]
  },
  {
   "cell_type": "code",
   "execution_count": null,
   "metadata": {},
   "outputs": [],
   "source": [
    "df_felicidad[df_felicidad['Country Name'] == 'Portugal']"
   ]
  },
  {
   "cell_type": "code",
   "execution_count": null,
   "metadata": {},
   "outputs": [],
   "source": [
    "len(df_felicidad)"
   ]
  },
  {
   "cell_type": "code",
   "execution_count": null,
   "metadata": {},
   "outputs": [],
   "source": [
    "df_whr_23 = pd.read_csv('data/WHR2023.csv')\n",
    "df_whr_23_portu = df_whr_23[df_whr_23['Country name'] == 'Portugal']\n",
    "df_whr_23_portu"
   ]
  },
  {
   "cell_type": "code",
   "execution_count": null,
   "metadata": {},
   "outputs": [],
   "source": [
    "df_whr_23_portu.columns"
   ]
  },
  {
   "cell_type": "code",
   "execution_count": null,
   "metadata": {},
   "outputs": [],
   "source": [
    "# df_whr_23_portu.drop(labels='Standard error of ladder score', axis=1, inplace=True)\n",
    "# df_whr_23_portu.drop(labels='upperwhisker', axis=1, inplace=True)\n",
    "# df_whr_23_portu.drop(labels='lowerwhisker', axis=1, inplace=True)\n",
    "# df_whr_23_portu.drop(labels='Dystopia + residual', axis=1, inplace=True)\n",
    "# df_whr_23_portu.drop(labels='Explained by: Perceptions of corruption', axis=1, inplace=True)\n",
    "# df_whr_23_portu.drop(labels='Explained by: Generosity', axis=1, inplace=True)\n",
    "# df_whr_23_portu.drop(labels='Explained by: Freedom to make life choices', axis=1, inplace=True)\n",
    "# df_whr_23_portu.drop(labels='Explained by: Healthy life expectancy', axis=1, inplace=True)\n",
    "# df_whr_23_portu.drop(labels='Explained by: Social support', axis=1, inplace=True)\n",
    "# df_whr_23_portu.drop(labels='Explained by: Log GDP per capita', axis=1, inplace=True)\n",
    "# df_whr_23_portu.drop(labels='Ladder score in Dystopia', axis=1, inplace=True)"
   ]
  },
  {
   "cell_type": "code",
   "execution_count": null,
   "metadata": {},
   "outputs": [],
   "source": [
    "# # df_whr_23_portu.drop(labels=['Standard error of ladder score', 'upperwhisker', 'lowerwhisker', 'Explained by: Log GDP per capita', 'Explained by: Perceptions of corruption', 'Explained by: Generosity', 'Explained by: Freedom to make life choices','Explained by: Healthy life expectancy', 'Explained by: Social support' , 'Explained by: Log GDP per capita', 'Ladder score in Dystopia', 'Dystopia + residual'], axis=1, inplace=True)\n",
    "# df_whr_23_portu['Year'] = 2023\n"
   ]
  },
  {
   "cell_type": "code",
   "execution_count": null,
   "metadata": {},
   "outputs": [],
   "source": [
    "# # df_whr_23_portu.pop('Year')\n",
    "# # df_whr_23_portu.insert(1,'Year', 2023)\n",
    "# # df_whr_23_portu['Regional Indicator'] = 'Western Europe'\n",
    "# df_whr_23_portu.pop('Regional Indicator')\n",
    "# df_whr_23_portu.insert(1,'Regional Indicator', 'Western Europe')"
   ]
  },
  {
   "cell_type": "code",
   "execution_count": null,
   "metadata": {},
   "outputs": [],
   "source": [
    "# df_whr_23_portu.rename(columns={\n",
    "#     'Country name': 'Country Name',\n",
    "#     'Year': 'Year',\n",
    "#     'Logged GDP per capita': 'Log GDP Per Capita',\n",
    "#     'Social support': 'Social Support',\n",
    "#     'Healthy life expectancy': 'Healthy Life Expectancy At Birth',\n",
    "#     'Freedom to make life choices': 'Freedom To Make Life Choices',\n",
    "#     'Generosity': 'Generosity',\n",
    "#     'Perceptions of corruption': 'Perceptions Of Corruption',\n",
    "#     'Ladder score': 'Life Ladder'\n",
    "#     }, inplace=True)"
   ]
  },
  {
   "cell_type": "code",
   "execution_count": null,
   "metadata": {},
   "outputs": [],
   "source": [
    "type(df_whr_23_portu)"
   ]
  },
  {
   "cell_type": "code",
   "execution_count": null,
   "metadata": {},
   "outputs": [],
   "source": [
    "df_whr_23_portu"
   ]
  },
  {
   "cell_type": "code",
   "execution_count": null,
   "metadata": {},
   "outputs": [],
   "source": [
    "df_portugal_felicidad= df_felicidad[df_felicidad['Country Name'] == 'Portugal']\n",
    "df_portugal_felicidad"
   ]
  },
  {
   "cell_type": "code",
   "execution_count": null,
   "metadata": {},
   "outputs": [],
   "source": [
    "df_feli_portu = pd.concat([df_portugal_felicidad, df_whr_23_portu], axis=0, ignore_index=True)"
   ]
  },
  {
   "cell_type": "code",
   "execution_count": null,
   "metadata": {},
   "outputs": [],
   "source": [
    "# type(df_feli_portu)\n",
    "df_feli_portu"
   ]
  },
  {
   "cell_type": "code",
   "execution_count": null,
   "metadata": {},
   "outputs": [],
   "source": [
    "# Calcula la media de los valores no-NaN de las columnas específicas\n",
    "mean_positive_affect = df_feli_portu['Positive Affect'].mean()\n",
    "mean_negative_affect = df_feli_portu['Negative Affect'].mean()\n",
    "mean_confidence_in_national_government = df_feli_portu['Confidence In National Government'].median()\n",
    "\n",
    "# Reemplaza los valores NaN con las medias calculadas\n",
    "df_feli_portu['Positive Affect'].fillna(mean_positive_affect, inplace=True)\n",
    "df_feli_portu['Negative Affect'].fillna(mean_negative_affect, inplace=True)\n",
    "df_feli_portu['Confidence In National Government'].fillna(mean_confidence_in_national_government, inplace=True)\n"
   ]
  },
  {
   "cell_type": "code",
   "execution_count": null,
   "metadata": {},
   "outputs": [],
   "source": [
    "df_feli_portu"
   ]
  },
  {
   "cell_type": "code",
   "execution_count": null,
   "metadata": {},
   "outputs": [],
   "source": [
    "# pd.concat([df_portugal_felicidad, df_whr_23_portu])\n",
    "# Hacer una dataFrame del indice de felicidad de portugal\n",
    "# Añadiendo los años anteriores junto el que va desde 2006 hasta 2022\n",
    "# Así tener un rango mayor, desde 2006 hasta 2023\n",
    "# IMPORTANTE, TENEMOS AÑOS PERDIDOS EN EL DF\n",
    "# 2007 Y 2009, CONSIDERA SI RELLENAR ESOS DATOS O ABANDONARLOS\n",
    "# IGUALMENTE EN DF_MENTAL TENGO HASTA 2019"
   ]
  },
  {
   "cell_type": "code",
   "execution_count": null,
   "metadata": {},
   "outputs": [],
   "source": [
    "# df_feli_portu.to_csv('data/Data_limpia/felicidad_portu.csv')"
   ]
  },
  {
   "cell_type": "code",
   "execution_count": null,
   "metadata": {},
   "outputs": [],
   "source": [
    "# Muy bien, en este archivo lo que hice fue limpiar la data del csv de felicidad, para generarme un nuevo csv que se llamara felicidad portugal con los años desde el 2006 hasta el 2023\n"
   ]
  },
  {
   "cell_type": "code",
   "execution_count": null,
   "metadata": {},
   "outputs": [],
   "source": [
    "df_felicidad['Regional Indicator'].value_counts()"
   ]
  },
  {
   "cell_type": "code",
   "execution_count": null,
   "metadata": {},
   "outputs": [],
   "source": [
    "df_felicidad['Country Name'].nunique()"
   ]
  },
  {
   "cell_type": "code",
   "execution_count": null,
   "metadata": {},
   "outputs": [],
   "source": [
    "# Para el efecto de Portugal trabajaré con con el DF incluyendo el 2023 pero para el estudio de variables a nivel mundial, utilizaré hasta el 2022"
   ]
  },
  {
   "cell_type": "code",
   "execution_count": null,
   "metadata": {},
   "outputs": [],
   "source": [
    "# df_felicidad[df_felicidad['Regional Indicator'] == 'South Asia']\n",
    "# df_felicidad[df_felicidad['Regional Indicator'] == 'Southeast Asia']\n",
    "# df_felicidad[df_felicidad['Regional Indicator'] == 'East Asia']"
   ]
  },
  {
   "cell_type": "code",
   "execution_count": null,
   "metadata": {},
   "outputs": [],
   "source": [
    "mask_asia = (\n",
    "    (df_felicidad['Regional Indicator'] == 'Southeast Asia') |\n",
    "    (df_felicidad['Regional Indicator'] == 'East Asia') |\n",
    "    (df_felicidad['Regional Indicator'] == 'South Asia')\n",
    ")\n",
    "df_asia = df_felicidad[mask_asia]\n",
    "df_asia"
   ]
  },
  {
   "cell_type": "code",
   "execution_count": null,
   "metadata": {},
   "outputs": [],
   "source": [
    "mask_europe = (\n",
    "    (df_felicidad['Regional Indicator'] == 'Western Europe') |\n",
    "    (df_felicidad['Regional Indicator'] == 'Central and Eastern Europe') |\n",
    "    (df_felicidad['Regional Indicator'] == 'Commonwealth of Independent States')\n",
    ")\n",
    "df_europe = df_felicidad[mask_europe]\n",
    "df_europe"
   ]
  },
  {
   "cell_type": "code",
   "execution_count": null,
   "metadata": {},
   "outputs": [],
   "source": [
    "mask_america_oceania = (\n",
    "    (df_felicidad['Regional Indicator'] == 'Latin America and Caribbean') |\n",
    "    (df_felicidad['Regional Indicator'] == 'North America and ANZ') \n",
    ")\n",
    "df_america_oceania = df_felicidad[mask_america_oceania]\n",
    "df_america_oceania"
   ]
  },
  {
   "cell_type": "code",
   "execution_count": null,
   "metadata": {},
   "outputs": [],
   "source": [
    "mask_africa_medio_oriente = (\n",
    "    (df_felicidad['Regional Indicator'] == 'Sub-Saharan Africa') |\n",
    "    (df_felicidad['Regional Indicator'] == 'Middle East and North Africa') \n",
    ")\n",
    "df_africa_medio_oriente = df_felicidad[mask_africa_medio_oriente]\n",
    "df_africa_medio_oriente"
   ]
  },
  {
   "cell_type": "code",
   "execution_count": null,
   "metadata": {},
   "outputs": [],
   "source": [
    "len(df_felicidad)"
   ]
  },
  {
   "cell_type": "code",
   "execution_count": null,
   "metadata": {},
   "outputs": [],
   "source": [
    "len(df_asia) + len(df_europe) + len(df_africa_medio_oriente) + len(df_america_oceania)\n",
    "len(df_asia) + len(df_europe) + len(df_africa_medio_oriente) + len(df_america_oceania) + len(df_felicidad[df_felicidad['Regional Indicator'].isna()])\n",
    "# pd.options.display.max_rows = 112\n",
    "df_felicidad[df_felicidad['Regional Indicator'].isna()]"
   ]
  },
  {
   "cell_type": "code",
   "execution_count": null,
   "metadata": {},
   "outputs": [],
   "source": [
    "df_felicidad.info()"
   ]
  },
  {
   "cell_type": "code",
   "execution_count": null,
   "metadata": {},
   "outputs": [],
   "source": [
    "\n",
    "# # Tengo países sin su identificador de regional, voy a agregarselos\n",
    "\n",
    "# # Utilizo el método loc para encontrar las filas donde el país es Angola y la columna 'Regional Indicator' es NaN,\n",
    "# # luego asigna 'Sub-Saharan Africa' a la columna 'Regional Indicator' para esas filas\n",
    "\n",
    "# df_felicidad.loc[(df_felicidad['Country Name'] == 'Angola') & (df_felicidad['Regional Indicator'].isna()), 'Regional Indicator'] = 'Sub-Saharan Africa'\n",
    "\n",
    "# # Ahora, todas las filas que corresponden a Angola y que tenían un valor NaN en la columna 'Regional Indicator',\n",
    "# # tendrán 'Sub-Saharan Africa' como valor en esa columna\n",
    "\n",
    "# df_felicidad[(df_felicidad['Country Name'] == 'Angola')]"
   ]
  },
  {
   "cell_type": "code",
   "execution_count": null,
   "metadata": {},
   "outputs": [],
   "source": [
    "\n",
    "# # Repito el precedimiento pero con Central African Republic\t\n",
    "\n",
    "# df_felicidad.loc[(df_felicidad['Country Name'] == 'Congo (Kinshasa)') & (df_felicidad['Regional Indicator'].isna()), 'Regional Indicator'] = 'Sub-Saharan Africa'\n",
    "# # df_felicidad[(df_felicidad['Country Name'] == 'Congo (Kinshasa)')]"
   ]
  },
  {
   "cell_type": "code",
   "execution_count": null,
   "metadata": {},
   "outputs": [],
   "source": [
    "# df_felicidad.loc[(df_felicidad['Country Name'] == 'Cuba') & (df_felicidad['Regional Indicator'].isna()), 'Regional Indicator'] = 'Latin America and Caribbean'"
   ]
  },
  {
   "cell_type": "code",
   "execution_count": null,
   "metadata": {},
   "outputs": [],
   "source": [
    "# df_felicidad.loc[(df_felicidad['Country Name'] == 'Czechia') & (df_felicidad['Regional Indicator'].isna()), 'Regional Indicator'] = 'Western Europe'\n",
    "# df_felicidad[(df_felicidad['Country Name'] == 'Czechia')]"
   ]
  },
  {
   "cell_type": "code",
   "execution_count": null,
   "metadata": {},
   "outputs": [],
   "source": [
    "# df_felicidad.loc[(df_felicidad['Country Name'] == 'State of Palestine') & (df_felicidad['Regional Indicator'].isna()), 'Regional Indicator'] = 'Middle East and North Africa'\n",
    "# df_felicidad[(df_felicidad['Country Name'] == 'State of Palestine')]"
   ]
  },
  {
   "cell_type": "code",
   "execution_count": null,
   "metadata": {},
   "outputs": [],
   "source": [
    "# df_felicidad.loc[(df_felicidad['Country Name'] == 'Turkiye') & (df_felicidad['Regional Indicator'].isna()), 'Regional Indicator'] = 'Middle East and North Africa'\n",
    "# df_felicidad[(df_felicidad['Country Name'] == 'Turkiye')]"
   ]
  },
  {
   "cell_type": "code",
   "execution_count": null,
   "metadata": {},
   "outputs": [],
   "source": [
    "# df_felicidad.loc[(df_felicidad['Country Name'] == 'Syria') & (df_felicidad['Regional Indicator'].isna()), 'Regional Indicator'] = 'Middle East and North Africa'\n",
    "# df_felicidad[(df_felicidad['Country Name'] == 'Syria')]"
   ]
  },
  {
   "cell_type": "code",
   "execution_count": null,
   "metadata": {},
   "outputs": [],
   "source": [
    "# df_felicidad.loc[(df_felicidad['Country Name'] == 'Sudan') & (df_felicidad['Regional Indicator']== 'Sudan'), 'Regional Indicator'] = 'Middle East and North Africa'\n",
    "# df_felicidad[(df_felicidad['Country Name'] == 'Sudan')]"
   ]
  },
  {
   "cell_type": "code",
   "execution_count": null,
   "metadata": {},
   "outputs": [],
   "source": [
    "# df_felicidad.loc[(df_felicidad['Country Name'] == 'South Sudan') & (df_felicidad['Regional Indicator'].isna()), 'Regional Indicator'] = 'Middle East and North Africa'\n",
    "# df_felicidad[(df_felicidad['Country Name'] == 'South Sudan')]"
   ]
  },
  {
   "cell_type": "code",
   "execution_count": null,
   "metadata": {},
   "outputs": [],
   "source": [
    "# df_felicidad.loc[(df_felicidad['Country Name'] == 'Qatar') & (df_felicidad['Regional Indicator'].isna()), 'Regional Indicator'] = 'Middle East and North Africa'\n",
    "# df_felicidad[(df_felicidad['Country Name'] == 'Qatar')]"
   ]
  },
  {
   "cell_type": "code",
   "execution_count": null,
   "metadata": {},
   "outputs": [],
   "source": [
    "# df_felicidad.loc[(df_felicidad['Country Name'] == 'Trinidad and Tobago') & (df_felicidad['Regional Indicator'].isna()), 'Regional Indicator'] = 'Latin America and Caribbean'\n",
    "# df_felicidad[(df_felicidad['Country Name'] == 'Trinidad and Tobago')]"
   ]
  },
  {
   "cell_type": "code",
   "execution_count": null,
   "metadata": {},
   "outputs": [],
   "source": [
    "# df_felicidad.loc[(df_felicidad['Country Name'] == 'Trinidad and Tobago') & (df_felicidad['Regional Indicator'].isna()), 'Regional Indicator'] = 'Latin America and Caribbean'\n",
    "# df_felicidad[(df_felicidad['Country Name'] == 'Trinidad and Tobago')]"
   ]
  },
  {
   "cell_type": "code",
   "execution_count": null,
   "metadata": {},
   "outputs": [],
   "source": [
    "# df_felicidad.loc[(df_felicidad['Country Name'] == 'Djibouti') & (df_felicidad['Regional Indicator'].isna()), 'Regional Indicator'] = 'Sub-Saharan Africa'\n",
    "# df_felicidad[(df_felicidad['Country Name'] == 'Djibouti')]"
   ]
  },
  {
   "cell_type": "code",
   "execution_count": null,
   "metadata": {},
   "outputs": [],
   "source": [
    "# df_felicidad.loc[(df_felicidad['Country Name'] == 'Eswatini') & (df_felicidad['Regional Indicator'].isna()), 'Regional Indicator'] = 'Sub-Saharan Africa'\n",
    "# df_felicidad[(df_felicidad['Country Name'] == 'Eswatini')]"
   ]
  },
  {
   "cell_type": "code",
   "execution_count": null,
   "metadata": {},
   "outputs": [],
   "source": [
    "# df_felicidad.loc[(df_felicidad['Country Name'] == 'Somalia') & (df_felicidad['Regional Indicator'].isna()), 'Regional Indicator'] = 'Sub-Saharan Africa'\n",
    "# df_felicidad[(df_felicidad['Country Name'] == 'Somalia')]"
   ]
  },
  {
   "cell_type": "code",
   "execution_count": null,
   "metadata": {},
   "outputs": [],
   "source": [
    "# df_felicidad.loc[(df_felicidad['Country Name'] == 'Somaliland region') & (df_felicidad['Regional Indicator'].isna()), 'Regional Indicator'] = 'Sub-Saharan Africa'\n",
    "# df_felicidad[(df_felicidad['Country Name'] == 'Somaliland region')]"
   ]
  },
  {
   "cell_type": "code",
   "execution_count": null,
   "metadata": {},
   "outputs": [],
   "source": [
    "# df_felicidad.loc[(df_felicidad['Country Name'] == 'Suriname') & (df_felicidad['Regional Indicator'].isna()), 'Regional Indicator'] = 'Latin America and Caribbean'\n",
    "# df_felicidad[(df_felicidad['Country Name'] == 'Suriname')]"
   ]
  },
  {
   "cell_type": "code",
   "execution_count": null,
   "metadata": {},
   "outputs": [],
   "source": [
    "# df_felicidad.loc[(df_felicidad['Country Name'] == 'Guyana') & (df_felicidad['Regional Indicator'].isna()), 'Regional Indicator'] = 'Latin America and Caribbean'\n",
    "# df_felicidad[(df_felicidad['Country Name'] == 'Guyana')]"
   ]
  },
  {
   "cell_type": "code",
   "execution_count": null,
   "metadata": {},
   "outputs": [],
   "source": [
    "# df_felicidad.loc[(df_felicidad['Country Name'] == 'Oman') & (df_felicidad['Regional Indicator'].isna()), 'Regional Indicator'] = 'Middle East and North Africa'\n",
    "# df_felicidad[(df_felicidad['Country Name'] == 'Oman')]"
   ]
  },
  {
   "cell_type": "code",
   "execution_count": null,
   "metadata": {},
   "outputs": [],
   "source": [
    "#Ahora validamos si tenemos la misma cantidad de elementos\n",
    "len(df_felicidad)"
   ]
  },
  {
   "cell_type": "code",
   "execution_count": null,
   "metadata": {},
   "outputs": [],
   "source": [
    "len(df_asia) + len(df_europe) + len(df_africa_medio_oriente) + len(df_america_oceania)"
   ]
  },
  {
   "cell_type": "code",
   "execution_count": null,
   "metadata": {},
   "outputs": [],
   "source": [
    "# #Ahora me guardo en DataSets mi información limpia\n",
    "\n",
    "# # df_felicidad.to_csv('data/Data_limpia/df_felicidad.csv')\n",
    "# df_asia.to_csv('data/Data_limpia/df_felicidad_asia.csv')\n",
    "# df_africa_medio_oriente.to_csv('data/Data_limpia/df_felicidad_africa_medio_oriente.csv')\n",
    "# df_europe.to_csv('data/Data_limpia/df_felicidad_europe.csv')\n",
    "# df_america_oceania.to_csv('data/Data_limpia/df_felicidad_america_oceania.csv')"
   ]
  },
  {
   "cell_type": "code",
   "execution_count": null,
   "metadata": {},
   "outputs": [],
   "source": [
    "df_felicidad"
   ]
  },
  {
   "cell_type": "code",
   "execution_count": 3,
   "metadata": {},
   "outputs": [],
   "source": [
    "import pandas as pd\n",
    "import numpy as np"
   ]
  },
  {
   "cell_type": "code",
   "execution_count": 4,
   "metadata": {},
   "outputs": [
    {
     "data": {
      "text/html": [
       "<div>\n",
       "<style scoped>\n",
       "    .dataframe tbody tr th:only-of-type {\n",
       "        vertical-align: middle;\n",
       "    }\n",
       "\n",
       "    .dataframe tbody tr th {\n",
       "        vertical-align: top;\n",
       "    }\n",
       "\n",
       "    .dataframe thead th {\n",
       "        text-align: right;\n",
       "    }\n",
       "</style>\n",
       "<table border=\"1\" class=\"dataframe\">\n",
       "  <thead>\n",
       "    <tr style=\"text-align: right;\">\n",
       "      <th></th>\n",
       "      <th>Unnamed: 0</th>\n",
       "      <th>Country Name</th>\n",
       "      <th>Regional Indicator</th>\n",
       "      <th>Year</th>\n",
       "      <th>Life Ladder</th>\n",
       "      <th>Log GDP Per Capita</th>\n",
       "      <th>Social Support</th>\n",
       "      <th>Healthy Life Expectancy At Birth</th>\n",
       "      <th>Freedom To Make Life Choices</th>\n",
       "      <th>Generosity</th>\n",
       "      <th>Perceptions Of Corruption</th>\n",
       "      <th>Positive Affect</th>\n",
       "      <th>Negative Affect</th>\n",
       "      <th>Confidence In National Government</th>\n",
       "    </tr>\n",
       "  </thead>\n",
       "  <tbody>\n",
       "    <tr>\n",
       "      <th>0</th>\n",
       "      <td>0</td>\n",
       "      <td>Portugal</td>\n",
       "      <td>Western Europe</td>\n",
       "      <td>2006</td>\n",
       "      <td>5.405246</td>\n",
       "      <td>10.358528</td>\n",
       "      <td>0.905290</td>\n",
       "      <td>68.339996</td>\n",
       "      <td>0.882068</td>\n",
       "      <td>-0.182437</td>\n",
       "      <td>0.880059</td>\n",
       "      <td>0.646715</td>\n",
       "      <td>0.333498</td>\n",
       "      <td>0.452417</td>\n",
       "    </tr>\n",
       "    <tr>\n",
       "      <th>1</th>\n",
       "      <td>1</td>\n",
       "      <td>Portugal</td>\n",
       "      <td>Western Europe</td>\n",
       "      <td>2008</td>\n",
       "      <td>5.716967</td>\n",
       "      <td>10.383067</td>\n",
       "      <td>0.885925</td>\n",
       "      <td>68.820000</td>\n",
       "      <td>0.646464</td>\n",
       "      <td>-0.221352</td>\n",
       "      <td>0.932686</td>\n",
       "      <td>0.666880</td>\n",
       "      <td>0.309281</td>\n",
       "      <td>0.339917</td>\n",
       "    </tr>\n",
       "    <tr>\n",
       "      <th>2</th>\n",
       "      <td>2</td>\n",
       "      <td>Portugal</td>\n",
       "      <td>Western Europe</td>\n",
       "      <td>2010</td>\n",
       "      <td>5.094526</td>\n",
       "      <td>10.367164</td>\n",
       "      <td>0.863907</td>\n",
       "      <td>69.300003</td>\n",
       "      <td>0.721036</td>\n",
       "      <td>-0.109846</td>\n",
       "      <td>0.947879</td>\n",
       "      <td>0.681019</td>\n",
       "      <td>0.265107</td>\n",
       "      <td>0.263270</td>\n",
       "    </tr>\n",
       "    <tr>\n",
       "      <th>3</th>\n",
       "      <td>3</td>\n",
       "      <td>Portugal</td>\n",
       "      <td>Western Europe</td>\n",
       "      <td>2011</td>\n",
       "      <td>5.219998</td>\n",
       "      <td>10.351527</td>\n",
       "      <td>0.855961</td>\n",
       "      <td>69.540001</td>\n",
       "      <td>0.875093</td>\n",
       "      <td>-0.176904</td>\n",
       "      <td>0.961977</td>\n",
       "      <td>0.670633</td>\n",
       "      <td>0.279201</td>\n",
       "      <td>0.209976</td>\n",
       "    </tr>\n",
       "    <tr>\n",
       "      <th>4</th>\n",
       "      <td>4</td>\n",
       "      <td>Portugal</td>\n",
       "      <td>Western Europe</td>\n",
       "      <td>2012</td>\n",
       "      <td>4.993962</td>\n",
       "      <td>10.314162</td>\n",
       "      <td>0.866039</td>\n",
       "      <td>69.779999</td>\n",
       "      <td>0.773821</td>\n",
       "      <td>-0.100899</td>\n",
       "      <td>0.959288</td>\n",
       "      <td>0.631480</td>\n",
       "      <td>0.370170</td>\n",
       "      <td>0.230625</td>\n",
       "    </tr>\n",
       "    <tr>\n",
       "      <th>5</th>\n",
       "      <td>5</td>\n",
       "      <td>Portugal</td>\n",
       "      <td>Western Europe</td>\n",
       "      <td>2013</td>\n",
       "      <td>5.157688</td>\n",
       "      <td>10.310381</td>\n",
       "      <td>0.867181</td>\n",
       "      <td>70.019997</td>\n",
       "      <td>0.788033</td>\n",
       "      <td>-0.122254</td>\n",
       "      <td>0.946257</td>\n",
       "      <td>0.664724</td>\n",
       "      <td>0.347898</td>\n",
       "      <td>0.179213</td>\n",
       "    </tr>\n",
       "    <tr>\n",
       "      <th>6</th>\n",
       "      <td>6</td>\n",
       "      <td>Portugal</td>\n",
       "      <td>Western Europe</td>\n",
       "      <td>2014</td>\n",
       "      <td>5.126912</td>\n",
       "      <td>10.323664</td>\n",
       "      <td>0.861829</td>\n",
       "      <td>70.260002</td>\n",
       "      <td>0.846810</td>\n",
       "      <td>-0.130222</td>\n",
       "      <td>0.941070</td>\n",
       "      <td>0.663038</td>\n",
       "      <td>0.357692</td>\n",
       "      <td>0.227394</td>\n",
       "    </tr>\n",
       "    <tr>\n",
       "      <th>7</th>\n",
       "      <td>7</td>\n",
       "      <td>Portugal</td>\n",
       "      <td>Western Europe</td>\n",
       "      <td>2015</td>\n",
       "      <td>5.080866</td>\n",
       "      <td>10.345567</td>\n",
       "      <td>0.866214</td>\n",
       "      <td>70.500000</td>\n",
       "      <td>0.800440</td>\n",
       "      <td>-0.166943</td>\n",
       "      <td>0.941051</td>\n",
       "      <td>0.629159</td>\n",
       "      <td>0.370737</td>\n",
       "      <td>0.217742</td>\n",
       "    </tr>\n",
       "    <tr>\n",
       "      <th>8</th>\n",
       "      <td>8</td>\n",
       "      <td>Portugal</td>\n",
       "      <td>Western Europe</td>\n",
       "      <td>2016</td>\n",
       "      <td>5.446637</td>\n",
       "      <td>10.368715</td>\n",
       "      <td>0.904635</td>\n",
       "      <td>70.625000</td>\n",
       "      <td>0.838069</td>\n",
       "      <td>-0.229143</td>\n",
       "      <td>0.922192</td>\n",
       "      <td>0.659149</td>\n",
       "      <td>0.326253</td>\n",
       "      <td>0.354542</td>\n",
       "    </tr>\n",
       "    <tr>\n",
       "      <th>9</th>\n",
       "      <td>9</td>\n",
       "      <td>Portugal</td>\n",
       "      <td>Western Europe</td>\n",
       "      <td>2017</td>\n",
       "      <td>5.711499</td>\n",
       "      <td>10.405617</td>\n",
       "      <td>0.899985</td>\n",
       "      <td>70.750000</td>\n",
       "      <td>0.905066</td>\n",
       "      <td>-0.179762</td>\n",
       "      <td>0.880971</td>\n",
       "      <td>0.607893</td>\n",
       "      <td>0.294273</td>\n",
       "      <td>0.501088</td>\n",
       "    </tr>\n",
       "    <tr>\n",
       "      <th>10</th>\n",
       "      <td>10</td>\n",
       "      <td>Portugal</td>\n",
       "      <td>Western Europe</td>\n",
       "      <td>2018</td>\n",
       "      <td>5.919823</td>\n",
       "      <td>10.435313</td>\n",
       "      <td>0.887113</td>\n",
       "      <td>70.875000</td>\n",
       "      <td>0.877404</td>\n",
       "      <td>-0.265427</td>\n",
       "      <td>0.879728</td>\n",
       "      <td>0.645732</td>\n",
       "      <td>0.317995</td>\n",
       "      <td>0.520631</td>\n",
       "    </tr>\n",
       "    <tr>\n",
       "      <th>11</th>\n",
       "      <td>11</td>\n",
       "      <td>Portugal</td>\n",
       "      <td>Western Europe</td>\n",
       "      <td>2019</td>\n",
       "      <td>6.095473</td>\n",
       "      <td>10.461550</td>\n",
       "      <td>0.876083</td>\n",
       "      <td>71.000000</td>\n",
       "      <td>0.882351</td>\n",
       "      <td>-0.238181</td>\n",
       "      <td>0.915166</td>\n",
       "      <td>0.675314</td>\n",
       "      <td>0.299875</td>\n",
       "      <td>0.435605</td>\n",
       "    </tr>\n",
       "    <tr>\n",
       "      <th>12</th>\n",
       "      <td>12</td>\n",
       "      <td>Portugal</td>\n",
       "      <td>Western Europe</td>\n",
       "      <td>2020</td>\n",
       "      <td>5.767792</td>\n",
       "      <td>10.373845</td>\n",
       "      <td>0.874990</td>\n",
       "      <td>71.125000</td>\n",
       "      <td>0.913131</td>\n",
       "      <td>-0.242256</td>\n",
       "      <td>0.867157</td>\n",
       "      <td>0.613749</td>\n",
       "      <td>0.382813</td>\n",
       "      <td>0.614669</td>\n",
       "    </tr>\n",
       "    <tr>\n",
       "      <th>13</th>\n",
       "      <td>13</td>\n",
       "      <td>Portugal</td>\n",
       "      <td>Western Europe</td>\n",
       "      <td>2021</td>\n",
       "      <td>6.183014</td>\n",
       "      <td>10.424497</td>\n",
       "      <td>0.894942</td>\n",
       "      <td>71.250000</td>\n",
       "      <td>0.892121</td>\n",
       "      <td>-0.209414</td>\n",
       "      <td>0.872229</td>\n",
       "      <td>0.628748</td>\n",
       "      <td>0.284007</td>\n",
       "      <td>0.576186</td>\n",
       "    </tr>\n",
       "    <tr>\n",
       "      <th>14</th>\n",
       "      <td>14</td>\n",
       "      <td>Portugal</td>\n",
       "      <td>Western Europe</td>\n",
       "      <td>2022</td>\n",
       "      <td>5.952543</td>\n",
       "      <td>10.487078</td>\n",
       "      <td>0.862344</td>\n",
       "      <td>71.375000</td>\n",
       "      <td>0.903218</td>\n",
       "      <td>-0.137060</td>\n",
       "      <td>0.892955</td>\n",
       "      <td>0.638485</td>\n",
       "      <td>0.316204</td>\n",
       "      <td>0.365948</td>\n",
       "    </tr>\n",
       "    <tr>\n",
       "      <th>15</th>\n",
       "      <td>15</td>\n",
       "      <td>Portugal</td>\n",
       "      <td>Western Europe</td>\n",
       "      <td>2023</td>\n",
       "      <td>5.968000</td>\n",
       "      <td>10.429000</td>\n",
       "      <td>0.878000</td>\n",
       "      <td>71.250000</td>\n",
       "      <td>0.902000</td>\n",
       "      <td>-0.196000</td>\n",
       "      <td>0.878000</td>\n",
       "      <td>0.648181</td>\n",
       "      <td>0.323667</td>\n",
       "      <td>0.365948</td>\n",
       "    </tr>\n",
       "  </tbody>\n",
       "</table>\n",
       "</div>"
      ],
      "text/plain": [
       "    Unnamed: 0 Country Name Regional Indicator  Year  Life Ladder  \\\n",
       "0            0     Portugal     Western Europe  2006     5.405246   \n",
       "1            1     Portugal     Western Europe  2008     5.716967   \n",
       "2            2     Portugal     Western Europe  2010     5.094526   \n",
       "3            3     Portugal     Western Europe  2011     5.219998   \n",
       "4            4     Portugal     Western Europe  2012     4.993962   \n",
       "5            5     Portugal     Western Europe  2013     5.157688   \n",
       "6            6     Portugal     Western Europe  2014     5.126912   \n",
       "7            7     Portugal     Western Europe  2015     5.080866   \n",
       "8            8     Portugal     Western Europe  2016     5.446637   \n",
       "9            9     Portugal     Western Europe  2017     5.711499   \n",
       "10          10     Portugal     Western Europe  2018     5.919823   \n",
       "11          11     Portugal     Western Europe  2019     6.095473   \n",
       "12          12     Portugal     Western Europe  2020     5.767792   \n",
       "13          13     Portugal     Western Europe  2021     6.183014   \n",
       "14          14     Portugal     Western Europe  2022     5.952543   \n",
       "15          15     Portugal     Western Europe  2023     5.968000   \n",
       "\n",
       "    Log GDP Per Capita  Social Support  Healthy Life Expectancy At Birth  \\\n",
       "0            10.358528        0.905290                         68.339996   \n",
       "1            10.383067        0.885925                         68.820000   \n",
       "2            10.367164        0.863907                         69.300003   \n",
       "3            10.351527        0.855961                         69.540001   \n",
       "4            10.314162        0.866039                         69.779999   \n",
       "5            10.310381        0.867181                         70.019997   \n",
       "6            10.323664        0.861829                         70.260002   \n",
       "7            10.345567        0.866214                         70.500000   \n",
       "8            10.368715        0.904635                         70.625000   \n",
       "9            10.405617        0.899985                         70.750000   \n",
       "10           10.435313        0.887113                         70.875000   \n",
       "11           10.461550        0.876083                         71.000000   \n",
       "12           10.373845        0.874990                         71.125000   \n",
       "13           10.424497        0.894942                         71.250000   \n",
       "14           10.487078        0.862344                         71.375000   \n",
       "15           10.429000        0.878000                         71.250000   \n",
       "\n",
       "    Freedom To Make Life Choices  Generosity  Perceptions Of Corruption  \\\n",
       "0                       0.882068   -0.182437                   0.880059   \n",
       "1                       0.646464   -0.221352                   0.932686   \n",
       "2                       0.721036   -0.109846                   0.947879   \n",
       "3                       0.875093   -0.176904                   0.961977   \n",
       "4                       0.773821   -0.100899                   0.959288   \n",
       "5                       0.788033   -0.122254                   0.946257   \n",
       "6                       0.846810   -0.130222                   0.941070   \n",
       "7                       0.800440   -0.166943                   0.941051   \n",
       "8                       0.838069   -0.229143                   0.922192   \n",
       "9                       0.905066   -0.179762                   0.880971   \n",
       "10                      0.877404   -0.265427                   0.879728   \n",
       "11                      0.882351   -0.238181                   0.915166   \n",
       "12                      0.913131   -0.242256                   0.867157   \n",
       "13                      0.892121   -0.209414                   0.872229   \n",
       "14                      0.903218   -0.137060                   0.892955   \n",
       "15                      0.902000   -0.196000                   0.878000   \n",
       "\n",
       "    Positive Affect  Negative Affect  Confidence In National Government  \n",
       "0          0.646715         0.333498                           0.452417  \n",
       "1          0.666880         0.309281                           0.339917  \n",
       "2          0.681019         0.265107                           0.263270  \n",
       "3          0.670633         0.279201                           0.209976  \n",
       "4          0.631480         0.370170                           0.230625  \n",
       "5          0.664724         0.347898                           0.179213  \n",
       "6          0.663038         0.357692                           0.227394  \n",
       "7          0.629159         0.370737                           0.217742  \n",
       "8          0.659149         0.326253                           0.354542  \n",
       "9          0.607893         0.294273                           0.501088  \n",
       "10         0.645732         0.317995                           0.520631  \n",
       "11         0.675314         0.299875                           0.435605  \n",
       "12         0.613749         0.382813                           0.614669  \n",
       "13         0.628748         0.284007                           0.576186  \n",
       "14         0.638485         0.316204                           0.365948  \n",
       "15         0.648181         0.323667                           0.365948  "
      ]
     },
     "execution_count": 4,
     "metadata": {},
     "output_type": "execute_result"
    }
   ],
   "source": [
    "df_portu = pd.read_csv('data/Data_limpia/Felicidad/felicidad_portu.csv')\n",
    "df_portu"
   ]
  },
  {
   "cell_type": "code",
   "execution_count": 5,
   "metadata": {},
   "outputs": [],
   "source": [
    "df_felicidad_africa_medio_oriente = pd.read_csv('data/Data_limpia/Felicidad/df_felicidad_africa_medio_oriente.csv')\n",
    "\n",
    "df_felicidad_america_oceania = pd.read_csv('data/Data_limpia/Felicidad/df_felicidad_america_oceania.csv')\n",
    "\n",
    "df_felicidad_asia = pd.read_csv('data/Data_limpia/Felicidad/df_felicidad_asia.csv')\n",
    "\n",
    "df_felicidad_europe = pd.read_csv('data/Data_limpia/Felicidad/df_felicidad_europe.csv')"
   ]
  },
  {
   "cell_type": "code",
   "execution_count": 7,
   "metadata": {},
   "outputs": [],
   "source": [
    "# Empiezo con la segmentación por continente\n",
    "# Para df_felicidad_america_oceania\n",
    "felicidad_america_oceania_2019 = df_felicidad_america_oceania.loc[df_felicidad_america_oceania['Year'] == 2019]\n",
    "felicidad_america_oceania_2020 = df_felicidad_america_oceania.loc[df_felicidad_america_oceania['Year'] == 2020]\n",
    "felicidad_america_oceania_2021 = df_felicidad_america_oceania.loc[df_felicidad_america_oceania['Year'] == 2021]\n",
    "felicidad_america_oceania_2022 = df_felicidad_america_oceania.loc[df_felicidad_america_oceania['Year'] == 2022]\n",
    "felicidad_america_oceania_2023 = df_felicidad_america_oceania.loc[df_felicidad_america_oceania['Year'] == 2023]\n",
    "\n",
    "# Para df_felicidad_africa_medio_oriente\n",
    "felicidad_africa_medio_oriente_2019 = df_felicidad_africa_medio_oriente.loc[df_felicidad_africa_medio_oriente['Year'] == 2019]\n",
    "felicidad_africa_medio_oriente_2020 = df_felicidad_africa_medio_oriente.loc[df_felicidad_africa_medio_oriente['Year'] == 2020]\n",
    "felicidad_africa_medio_oriente_2021 = df_felicidad_africa_medio_oriente.loc[df_felicidad_africa_medio_oriente['Year'] == 2021]\n",
    "felicidad_africa_medio_oriente_2022 = df_felicidad_africa_medio_oriente.loc[df_felicidad_africa_medio_oriente['Year'] == 2022]\n",
    "felicidad_africa_medio_oriente_2023 = df_felicidad_africa_medio_oriente.loc[df_felicidad_africa_medio_oriente['Year'] == 2023]\n",
    "\n",
    "# Para df_mental_europe\n",
    "felicidad_europe_2019 = df_felicidad_europe.loc[df_felicidad_europe['Year'] == 2019]\n",
    "felicidad_europe_2020 = df_felicidad_europe.loc[df_felicidad_europe['Year'] == 2020]\n",
    "felicidad_europe_2021 = df_felicidad_europe.loc[df_felicidad_europe['Year'] == 2021]\n",
    "felicidad_europe_2022 = df_felicidad_europe.loc[df_felicidad_europe['Year'] == 2022]\n",
    "felicidad_europe_2023 = df_felicidad_europe.loc[df_felicidad_europe['Year'] == 2023]\n",
    "\n",
    "# Para df_mental_asia\n",
    "felicidad_asia_2019 = df_felicidad_asia.loc[df_felicidad_asia['Year'] == 2019]\n",
    "felicidad_asia_2020 = df_felicidad_asia.loc[df_felicidad_asia['Year'] == 2020]\n",
    "felicidad_asia_2021 = df_felicidad_asia.loc[df_felicidad_asia['Year'] == 2021]\n",
    "felicidad_asia_2022 = df_felicidad_asia.loc[df_felicidad_asia['Year'] == 2022]\n",
    "felicidad_asia_2023 = df_felicidad_asia.loc[df_felicidad_asia['Year'] == 2023]\n",
    "\n"
   ]
  },
  {
   "cell_type": "code",
   "execution_count": 8,
   "metadata": {},
   "outputs": [],
   "source": [
    "# Código para exportar los DataFrames de felicidad segmentados por continente y año a CSV\n",
    "\n",
    "# América y Oceanía\n",
    "felicidad_america_oceania_2019.to_csv('data/Data_limpia/Felicidad/df_felicidad_america_oceania_2019.csv', index=False)\n",
    "felicidad_america_oceania_2020.to_csv('data/Data_limpia/Felicidad/df_felicidad_america_oceania_2020.csv', index=False)\n",
    "felicidad_america_oceania_2021.to_csv('data/Data_limpia/Felicidad/df_felicidad_america_oceania_2021.csv', index=False)\n",
    "felicidad_america_oceania_2022.to_csv('data/Data_limpia/Felicidad/df_felicidad_america_oceania_2022.csv', index=False)\n",
    "felicidad_america_oceania_2023.to_csv('data/Data_limpia/Felicidad/df_felicidad_america_oceania_2023.csv', index=False)\n",
    "\n",
    "# África y Medio Oriente\n",
    "felicidad_africa_medio_oriente_2019.to_csv('data/Data_limpia/Felicidad/df_felicidad_africa_medio_oriente_2019.csv', index=False)\n",
    "felicidad_africa_medio_oriente_2020.to_csv('data/Data_limpia/Felicidad/df_felicidad_africa_medio_oriente_2020.csv', index=False)\n",
    "felicidad_africa_medio_oriente_2021.to_csv('data/Data_limpia/Felicidad/df_felicidad_africa_medio_oriente_2021.csv', index=False)\n",
    "felicidad_africa_medio_oriente_2022.to_csv('data/Data_limpia/Felicidad/df_felicidad_africa_medio_oriente_2022.csv', index=False)\n",
    "felicidad_africa_medio_oriente_2023.to_csv('data/Data_limpia/Felicidad/df_felicidad_africa_medio_oriente_2023.csv', index=False)\n",
    "\n",
    "# Europa\n",
    "felicidad_europe_2019.to_csv('data/Data_limpia/Felicidad/df_felicidad_europe_2019.csv', index=False)\n",
    "felicidad_europe_2020.to_csv('data/Data_limpia/Felicidad/df_felicidad_europe_2020.csv', index=False)\n",
    "felicidad_europe_2021.to_csv('data/Data_limpia/Felicidad/df_felicidad_europe_2021.csv', index=False)\n",
    "felicidad_europe_2022.to_csv('data/Data_limpia/Felicidad/df_felicidad_europe_2022.csv', index=False)\n",
    "felicidad_europe_2023.to_csv('data/Data_limpia/Felicidad/df_felicidad_europe_2023.csv', index=False)\n",
    "\n",
    "# Asia\n",
    "felicidad_asia_2019.to_csv('data/Data_limpia/Felicidad/df_felicidad_asia_2019.csv', index=False)\n",
    "felicidad_asia_2020.to_csv('data/Data_limpia/Felicidad/df_felicidad_asia_2020.csv', index=False)\n",
    "felicidad_asia_2021.to_csv('data/Data_limpia/Felicidad/df_felicidad_asia_2021.csv', index=False)\n",
    "felicidad_asia_2022.to_csv('data/Data_limpia/Felicidad/df_felicidad_asia_2022.csv', index=False)\n",
    "felicidad_asia_2023.to_csv('data/Data_limpia/Felicidad/df_felicidad_asia_2023.csv', index=False)\n"
   ]
  },
  {
   "cell_type": "code",
   "execution_count": 10,
   "metadata": {},
   "outputs": [],
   "source": [
    "# Filtrando los datos de Portugal desde el 2019 hasta el 2023\n",
    "df_portu_filtered = df_portu[df_portu['Year'].between(2019, 2023)]\n",
    "\n",
    "df_portu_filtered.to_csv('data/Data_limpia/Felicidad/df_portu_filtered.csv')"
   ]
  },
  {
   "cell_type": "code",
   "execution_count": null,
   "metadata": {},
   "outputs": [],
   "source": []
  }
 ],
 "metadata": {
  "kernelspec": {
   "display_name": "Python 3",
   "language": "python",
   "name": "python3"
  },
  "language_info": {
   "codemirror_mode": {
    "name": "ipython",
    "version": 3
   },
   "file_extension": ".py",
   "mimetype": "text/x-python",
   "name": "python",
   "nbconvert_exporter": "python",
   "pygments_lexer": "ipython3",
   "version": "3.11.4"
  }
 },
 "nbformat": 4,
 "nbformat_minor": 2
}
