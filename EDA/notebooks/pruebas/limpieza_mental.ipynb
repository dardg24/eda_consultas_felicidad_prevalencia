{
 "cells": [
  {
   "cell_type": "code",
   "execution_count": null,
   "metadata": {},
   "outputs": [],
   "source": [
    "import pandas as pd\n",
    "import numpy as np"
   ]
  },
  {
   "cell_type": "code",
   "execution_count": null,
   "metadata": {},
   "outputs": [],
   "source": [
    "# No trabajaré con estos datasets sin embargo, me parecen interesantes de usar en el futuro por algún análisis más profundo y quizás demostrar otras hipotesis interesantes\n",
    "\n",
    "# df_1 = pd.read_csv('data/mental-and-substance-use-as-share-of-disease.csv')\n",
    "# df_1\n",
    "\n",
    "# df_3 = pd.read_csv('data/prevalence-of-depression-males-vs-females.csv')\n",
    "# df_3\n",
    "\n",
    "# # Tampoco voy a utilizar este, por ser muy general\n",
    "# df_4 = pd.read_csv('data/share-with-depression.csv')\n",
    "# df_4\n",
    "\n",
    "# df_6 = pd.read_csv('data/share-with-mental-or-substance-disorders-by-sex.csv')\n",
    "# df_6"
   ]
  },
  {
   "cell_type": "code",
   "execution_count": null,
   "metadata": {},
   "outputs": [],
   "source": [
    "df_1 = pd.read_csv('data/prevalence-by-mental-and-substance-use-disorder.csv')\n",
    "df_1"
   ]
  },
  {
   "cell_type": "code",
   "execution_count": null,
   "metadata": {},
   "outputs": [],
   "source": [
    "df_2 = pd.read_csv('data/share-with-mental-and-substance-disorders.csv')\n",
    "df_2"
   ]
  },
  {
   "cell_type": "code",
   "execution_count": null,
   "metadata": {},
   "outputs": [],
   "source": [
    "df_1.info()"
   ]
  },
  {
   "cell_type": "code",
   "execution_count": null,
   "metadata": {},
   "outputs": [],
   "source": [
    "# Solamente tengo NaN en code y la verdad, es una columna que no voy a revisar\n",
    "df_1['Code']"
   ]
  },
  {
   "cell_type": "code",
   "execution_count": null,
   "metadata": {},
   "outputs": [],
   "source": [
    "df_1.drop(columns='Code', axis=1, inplace=True)"
   ]
  },
  {
   "cell_type": "code",
   "execution_count": null,
   "metadata": {},
   "outputs": [],
   "source": [
    "# indicadores_regionales = ['Europe', 'Asia', 'Africa and Middle East', 'America and Oceani']\n",
    "# df_1['Regional Indicator'] = None"
   ]
  },
  {
   "cell_type": "code",
   "execution_count": null,
   "metadata": {},
   "outputs": [],
   "source": [
    "new_cols = [\n",
    "    'Entity',\n",
    "    'Regional Indicator',\n",
    "    'Year',\n",
    "    'Prevalence - Schizophrenia - Sex: Both - Age: Age-standardized (Percent)',\n",
    "    'Prevalence - Bipolar disorder - Sex: Both - Age: Age-standardized (Percent)',\n",
    "    'Prevalence - Eating disorders - Sex: Both - Age: Age-standardized (Percent)',\n",
    "    'Prevalence - Anxiety disorders - Sex: Both - Age: Age-standardized (Percent)',\n",
    "    'Prevalence - Drug use disorders - Sex: Both - Age: Age-standardized (Percent)',\n",
    "    'Prevalence - Depressive disorders - Sex: Both - Age: Age-standardized (Percent)',\n",
    "    'Prevalence - Alcohol use disorders - Sex: Both - Age: Age-standardized (Percent)',]\n",
    "df_1 = df_1.reindex(columns=new_cols)\n",
    "df_1"
   ]
  },
  {
   "cell_type": "code",
   "execution_count": null,
   "metadata": {},
   "outputs": [],
   "source": [
    "df_1['Entity'].value_counts()"
   ]
  },
  {
   "cell_type": "code",
   "execution_count": null,
   "metadata": {},
   "outputs": [],
   "source": [
    "# df_felicidad = pd.read_csv('data/Data_limpia/Felicidad/df_felicidad.csv')\n",
    "# df_felicidad.drop(columns='Unnamed: 0', axis=1, inplace=True)\n",
    "# df_felicidad"
   ]
  },
  {
   "cell_type": "code",
   "execution_count": null,
   "metadata": {},
   "outputs": [],
   "source": [
    "# df_1 = pd.merge(df_1, df_felicidad, on='Regional Indicator', how='left')\n",
    "# df_1"
   ]
  },
  {
   "cell_type": "code",
   "execution_count": null,
   "metadata": {},
   "outputs": [],
   "source": [
    "df_1['Entity'].unique()"
   ]
  },
  {
   "cell_type": "code",
   "execution_count": null,
   "metadata": {},
   "outputs": [],
   "source": [
    "df_1.info()"
   ]
  },
  {
   "cell_type": "code",
   "execution_count": null,
   "metadata": {},
   "outputs": [],
   "source": [
    "# Importo pycountry_convert para hacer este mapeo de forma automática\n",
    "from pycountry_convert import country_alpha2_to_continent_code, country_name_to_country_alpha2\n",
    "\n",
    "# Función para obtener el código del continente a partir del nombre del país\n",
    "def get_continent(country_name):\n",
    "    try:\n",
    "        # Convertir el nombre del país a su código alfa-2 (ejemplo: \"Afghanistan\" a \"AF\")\n",
    "        country_alpha2 = country_name_to_country_alpha2(country_name)\n",
    "        # Obtener el código del continente usando el código alfa-2 del país\n",
    "        continent_code = country_alpha2_to_continent_code(country_alpha2)\n",
    "        return continent_code\n",
    "    except:\n",
    "        # Si no se puede hacer la conversión, devolver \"Unknown\"\n",
    "        return \"Unknown\""
   ]
  },
  {
   "cell_type": "code",
   "execution_count": null,
   "metadata": {},
   "outputs": [],
   "source": [
    "# Añadir una nueva columna 'Continent' aplicando la función get_continent a la columna 'Entity'\n",
    "df_1['Regional Indicator'] = df_1['Entity'].apply(get_continent)\n"
   ]
  },
  {
   "cell_type": "code",
   "execution_count": null,
   "metadata": {},
   "outputs": [],
   "source": [
    "# Diccionario para mapear códigos de continente a nombres completos\n",
    "continent_codes = {\n",
    "    'AF': 'Africa',\n",
    "    'AS': 'Asia',\n",
    "    'EU': 'Europe',\n",
    "    'NA': 'North America',\n",
    "    'SA': 'South America',\n",
    "    'OC': 'Oceania',\n",
    "    'AN': 'Antarctica',\n",
    "    'Unknown': 'Unknown'\n",
    "}"
   ]
  },
  {
   "cell_type": "code",
   "execution_count": null,
   "metadata": {},
   "outputs": [],
   "source": [
    "# Actualizar la columna 'Continent' para reemplazar los códigos de continente con nombres completos\n",
    "# Utilizando el diccionario 'continent_codes'\n",
    "df_1['Regional Indicator'] = df_1['Regional Indicator'].map(continent_codes)"
   ]
  },
  {
   "cell_type": "code",
   "execution_count": null,
   "metadata": {},
   "outputs": [],
   "source": [
    "df_1['Regional Indicator'].unique()"
   ]
  },
  {
   "cell_type": "code",
   "execution_count": null,
   "metadata": {},
   "outputs": [],
   "source": [
    "pd.options.display.max_rows"
   ]
  },
  {
   "cell_type": "code",
   "execution_count": null,
   "metadata": {},
   "outputs": [],
   "source": [
    "df_1[df_1['Regional Indicator'] == 'Unknown']"
   ]
  },
  {
   "cell_type": "code",
   "execution_count": null,
   "metadata": {},
   "outputs": [],
   "source": [
    "# Iré sacando todos los registros que tenga como Unknown que no pertenezcan a un país"
   ]
  },
  {
   "cell_type": "code",
   "execution_count": null,
   "metadata": {},
   "outputs": [],
   "source": [
    "# df_1[(df_1['Regional Indicator'] == 'Unknown') & (df_1['Entity'] == 'African Region (WHO)')]\n",
    "# df_1 = df_1[df_1['Entity'] != 'African Region (WHO)']"
   ]
  },
  {
   "cell_type": "code",
   "execution_count": null,
   "metadata": {},
   "outputs": [],
   "source": [
    "# df_1[(df_1['Regional Indicator'] == 'Unknown') & (df_1['Entity'] == 'World Bank Upper Middle Income')]\n",
    "# df_1 = df_1[df_1['Entity'] != 'World Bank Upper Middle Income']"
   ]
  },
  {
   "cell_type": "code",
   "execution_count": null,
   "metadata": {},
   "outputs": [],
   "source": [
    "# df_1[(df_1['Regional Indicator'] == 'Unknown') & (df_1['Entity'] == 'World Bank Lower Middle Income')]\n",
    "# df_1 = df_1[df_1['Entity'] != 'World Bank Lower Middle Income']"
   ]
  },
  {
   "cell_type": "code",
   "execution_count": null,
   "metadata": {},
   "outputs": [],
   "source": [
    "# df_1[(df_1['Regional Indicator'] == 'Unknown') & (df_1['Entity'] == 'World Bank Low Income\t')]\n",
    "# df_1 = df_1[df_1['Entity'] != 'World Bank Low Income']"
   ]
  },
  {
   "cell_type": "code",
   "execution_count": null,
   "metadata": {},
   "outputs": [],
   "source": [
    "# df_1[(df_1['Regional Indicator'] == 'Unknown') & (df_1['Entity'] == 'World Bank High Income')]\n",
    "# df_1 = df_1[df_1['Entity'] != 'World Bank High Income']"
   ]
  },
  {
   "cell_type": "code",
   "execution_count": null,
   "metadata": {},
   "outputs": [],
   "source": [
    "# df_1[(df_1['Regional Indicator'] == 'Unknown') & (df_1['Entity'] == 'World')]\n",
    "# df_1 = df_1[df_1['Entity'] != 'World']"
   ]
  },
  {
   "cell_type": "code",
   "execution_count": null,
   "metadata": {},
   "outputs": [],
   "source": [
    "# df_1[(df_1['Regional Indicator'] == 'Unknown') & (df_1['Entity'] == 'Western Pacific Region (WHO)')]\n",
    "# df_1 = df_1[df_1['Entity'] != 'Western Pacific Region (WHO)']"
   ]
  },
  {
   "cell_type": "code",
   "execution_count": null,
   "metadata": {},
   "outputs": [],
   "source": [
    "# df_1.loc[(df_1['Entity'] == 'Cote d\\'Ivoire') & (df_1['Regional Indicator'] == 'Unknown'), 'Regional Indicator'] = 'Africa'"
   ]
  },
  {
   "cell_type": "code",
   "execution_count": null,
   "metadata": {},
   "outputs": [],
   "source": [
    "# df_1.loc[(df_1['Entity'] == 'Democratic Republic of Congo') & (df_1['Regional Indicator'] == 'Unknown'), 'Regional Indicator'] = 'Africa'"
   ]
  },
  {
   "cell_type": "code",
   "execution_count": null,
   "metadata": {},
   "outputs": [],
   "source": [
    "# df_1.loc[(df_1['Entity'] == 'Wales') & (df_1['Regional Indicator'] == 'Unknown'), 'Regional Indicator'] = 'Europe'"
   ]
  },
  {
   "cell_type": "code",
   "execution_count": null,
   "metadata": {},
   "outputs": [],
   "source": [
    "# df_1[(df_1['Regional Indicator'] == 'Unknown') & (df_1['Entity'] == 'East Asia & Pacific (WB)')]\n",
    "# df_1 = df_1[df_1['Entity'] != 'East Asia & Pacific (WB)']"
   ]
  },
  {
   "cell_type": "code",
   "execution_count": null,
   "metadata": {},
   "outputs": [],
   "source": [
    "# df_1[(df_1['Regional Indicator'] == 'Unknown') & (df_1['Entity'] == 'Eastern Mediterranean Region (WHO)')]\n",
    "# df_1 = df_1[df_1['Entity'] != 'Eastern Mediterranean Region (WHO)']"
   ]
  },
  {
   "cell_type": "code",
   "execution_count": null,
   "metadata": {},
   "outputs": [],
   "source": [
    "# df_1.loc[(df_1['Entity'] == 'Wales') & (df_1['Regional Indicator'] == 'Unknown'), 'Regional Indicator'] = 'Europe'"
   ]
  },
  {
   "cell_type": "code",
   "execution_count": null,
   "metadata": {},
   "outputs": [],
   "source": [
    "# df_1.loc[(df_1['Entity'] == 'England') & (df_1['Regional Indicator'] == 'Unknown'), 'Regional Indicator'] = 'Europe'"
   ]
  },
  {
   "cell_type": "code",
   "execution_count": null,
   "metadata": {},
   "outputs": [],
   "source": [
    "# df_1[(df_1['Regional Indicator'] == 'Unknown') & (df_1['Entity'] == 'Europe & Central Asia (WB)')]\n",
    "# df_1 = df_1[df_1['Entity'] != 'Europe & Central Asia (WB)']"
   ]
  },
  {
   "cell_type": "code",
   "execution_count": null,
   "metadata": {},
   "outputs": [],
   "source": [
    "# df_1[(df_1['Regional Indicator'] == 'Unknown') & (df_1['Entity'] == 'European Region (WHO)')]\n",
    "# df_1 = df_1[df_1['Entity'] != 'European Region (WHO)']"
   ]
  },
  {
   "cell_type": "code",
   "execution_count": null,
   "metadata": {},
   "outputs": [],
   "source": [
    "# df_1[(df_1['Regional Indicator'] == 'Unknown') & (df_1['Entity'] == 'G20')]\n",
    "# df_1 = df_1[df_1['Entity'] != 'G20']"
   ]
  },
  {
   "cell_type": "code",
   "execution_count": null,
   "metadata": {},
   "outputs": [],
   "source": [
    "# df_1[(df_1['Regional Indicator'] == 'Unknown') & (df_1['Entity'] == 'Latin America & Caribbean (WB)')]\n",
    "# df_1 = df_1[df_1['Entity'] != 'Latin America & Caribbean (WB)']"
   ]
  },
  {
   "cell_type": "code",
   "execution_count": null,
   "metadata": {},
   "outputs": [],
   "source": [
    "# df_1.loc[(df_1['Entity'] == 'Timor') & (df_1['Regional Indicator'] == 'Unknown'), 'Regional Indicator'] = 'Asia'"
   ]
  },
  {
   "cell_type": "code",
   "execution_count": null,
   "metadata": {},
   "outputs": [],
   "source": [
    "# df_1.loc[(df_1['Entity'] == 'Micronesia (country)') & (df_1['Regional Indicator'] == 'Unknown'), 'Regional Indicator'] = 'Oceania'"
   ]
  },
  {
   "cell_type": "code",
   "execution_count": null,
   "metadata": {},
   "outputs": [],
   "source": [
    "# df_1[(df_1['Regional Indicator'] == 'Unknown') & (df_1['Entity'] == 'Middle East & North Africa (WB)')]\n",
    "# df_1 = df_1[df_1['Entity'] != 'Middle East & North Africa (WB)']"
   ]
  },
  {
   "cell_type": "code",
   "execution_count": null,
   "metadata": {},
   "outputs": [],
   "source": [
    "# df_1[(df_1['Regional Indicator'] == 'Unknown') & (df_1['Entity'] == 'Sub-Saharan Africa (WB)')]\n",
    "# df_1 = df_1[df_1['Entity'] != 'Sub-Saharan Africa (WB)']"
   ]
  },
  {
   "cell_type": "code",
   "execution_count": null,
   "metadata": {},
   "outputs": [],
   "source": [
    "# df_1[(df_1['Regional Indicator'] == 'Unknown') & (df_1['Entity'] == 'North America (WB)')]\n",
    "# df_1 = df_1[df_1['Entity'] != 'North America (WB)']"
   ]
  },
  {
   "cell_type": "code",
   "execution_count": null,
   "metadata": {},
   "outputs": [],
   "source": [
    "# df_1[(df_1['Regional Indicator'] == 'Unknown') & (df_1['Entity'] == 'South-East Asia Region (WHO)')]\n",
    "# df_1 = df_1[df_1['Entity'] != 'South-East Asia Region (WHO)']"
   ]
  },
  {
   "cell_type": "code",
   "execution_count": null,
   "metadata": {},
   "outputs": [],
   "source": [
    "# df_1[(df_1['Regional Indicator'] == 'Unknown') & (df_1['Entity'] == 'South Asia (WB)')]\n",
    "# df_1 = df_1[df_1['Entity'] != 'South Asia (WB)']"
   ]
  },
  {
   "cell_type": "code",
   "execution_count": null,
   "metadata": {},
   "outputs": [],
   "source": [
    "# df_1.loc[(df_1['Entity'] == 'Northern Ireland') & (df_1['Regional Indicator'] == 'Unknown'), 'Regional Indicator'] = 'Europe'"
   ]
  },
  {
   "cell_type": "code",
   "execution_count": null,
   "metadata": {},
   "outputs": [],
   "source": [
    "# df_1.loc[(df_1['Entity'] == 'Scotland') & (df_1['Regional Indicator'] == 'Unknown'), 'Regional Indicator'] = 'Europe'"
   ]
  },
  {
   "cell_type": "code",
   "execution_count": null,
   "metadata": {},
   "outputs": [],
   "source": [
    "# df_1[(df_1['Regional Indicator'] == 'Unknown') & (df_1['Entity'] == 'Region of the Americas (WHO)')]\n",
    "# df_1 = df_1[df_1['Entity'] != 'Region of the Americas (WHO)']"
   ]
  },
  {
   "cell_type": "code",
   "execution_count": null,
   "metadata": {},
   "outputs": [],
   "source": [
    "# df_1[(df_1['Regional Indicator'] == 'Unknown') & (df_1['Entity'] == 'OECD Countries')]\n",
    "# df_1 = df_1[df_1['Entity'] != 'OECD Countries']"
   ]
  },
  {
   "cell_type": "code",
   "execution_count": null,
   "metadata": {},
   "outputs": [],
   "source": [
    "df_1"
   ]
  },
  {
   "cell_type": "code",
   "execution_count": null,
   "metadata": {},
   "outputs": [],
   "source": [
    "df_1.to_csv('data/Data_limpia/Mental/mental_disordes_general.csv')"
   ]
  },
  {
   "cell_type": "code",
   "execution_count": null,
   "metadata": {},
   "outputs": [],
   "source": [
    "df_mental_general = pd.read_csv('data/Data_limpia/Mental/mental_disordes_general.csv')\n",
    "df_mental_general"
   ]
  },
  {
   "cell_type": "code",
   "execution_count": null,
   "metadata": {},
   "outputs": [],
   "source": [
    "df_mental_general.drop(columns='Unnamed: 0', axis=1, inplace=True)\n",
    "df_mental_general"
   ]
  },
  {
   "cell_type": "code",
   "execution_count": null,
   "metadata": {},
   "outputs": [],
   "source": [
    "df_mental_general['Regional Indicator'].unique()"
   ]
  },
  {
   "cell_type": "code",
   "execution_count": null,
   "metadata": {},
   "outputs": [],
   "source": [
    "# Empiezo con la segmentación por continente\n",
    "# Asia\n",
    "df_mental_asia = df_mental_general[df_mental_general['Regional Indicator'] == 'Asia']\n",
    "df_mental_asia\n",
    "\n",
    "# Empiezo con la segmentación por continente\n",
    "# Europe\n",
    "df_mental_europe = df_mental_general[df_mental_general['Regional Indicator'] == 'Europe']\n",
    "df_mental_europe\n",
    "\n",
    "\n",
    "# Empiezo con la segmentación por continente\n",
    "# Africa and Middle East\n",
    "df_mental_africa_middle_east = df_mental_general[df_mental_general['Regional Indicator'] == 'Africa']\n",
    "df_mental_africa_middle_east\n",
    "\n",
    "# Crear DataFrames separados para América del Norte, América del Sur y Oceanía\n",
    "df_mental_america = df_mental_general[(df_mental_general['Regional Indicator'] == 'North America') | (df_mental_general['Regional Indicator'] == 'South America')]\n",
    "df_mental_oceania = df_mental_general[df_mental_general['Regional Indicator'] == 'Oceania']\n",
    "\n",
    "# Concatenar los DataFrames de América y Oceanía\n",
    "df_mental_america_oceania = pd.concat([df_mental_america, df_mental_oceania])\n",
    "df_mental_america_oceania\n"
   ]
  },
  {
   "cell_type": "code",
   "execution_count": null,
   "metadata": {},
   "outputs": [],
   "source": [
    "# df_mental_america_oceania.to_csv('data/Data_limpia/Mental/mental_general_america_oceania.csv')\n",
    "# df_mental_africa_middle_east.to_csv('data/Data_limpia/Mental/mental_general_africa_middle_east.csv')\n",
    "# df_mental_asia.to_csv('data/Data_limpia/Mental/mental_general_asia.csv')\n",
    "# df_mental_europe.to_csv('data/Data_limpia/Mental/mental_general_europe.csv')"
   ]
  },
  {
   "cell_type": "code",
   "execution_count": null,
   "metadata": {},
   "outputs": [],
   "source": [
    "df_2"
   ]
  },
  {
   "cell_type": "code",
   "execution_count": null,
   "metadata": {},
   "outputs": [],
   "source": [
    "df_2.drop(columns='Code', axis=1, inplace=True)\n",
    "df_2"
   ]
  },
  {
   "cell_type": "code",
   "execution_count": null,
   "metadata": {},
   "outputs": [],
   "source": [
    "new_cols = [\n",
    "    'Entity',\n",
    "    'Regional Indicator',\n",
    "    'Year',\n",
    "    'Prevalence - Mental disorders - Sex: Both - Age: Age-standardized (Percent)'\n",
    "    ]\n",
    "df_2 = df_2.reindex(columns=new_cols)\n",
    "df_2"
   ]
  },
  {
   "cell_type": "code",
   "execution_count": null,
   "metadata": {},
   "outputs": [],
   "source": [
    "# Añadir una nueva columna 'Continent' aplicando la función get_continent a la columna 'Entity'\n",
    "df_2['Regional Indicator'] = df_2['Entity'].apply(get_continent)\n",
    "\n",
    "# Actualizar la columna 'Continent' para reemplazar los códigos de continente con nombres completos\n",
    "# Utilizando el diccionario 'continent_codes'\n",
    "df_2['Regional Indicator'] = df_2['Regional Indicator'].map(continent_codes)\n",
    "\n",
    "df_2['Regional Indicator'].unique()"
   ]
  },
  {
   "cell_type": "code",
   "execution_count": null,
   "metadata": {},
   "outputs": [],
   "source": [
    "df_2[df_2['Regional Indicator'] == 'Unknown']"
   ]
  },
  {
   "cell_type": "code",
   "execution_count": null,
   "metadata": {},
   "outputs": [],
   "source": [
    "# Iré sacando todos los registros que tenga como Unknown que no pertenezcan a un país"
   ]
  },
  {
   "cell_type": "code",
   "execution_count": null,
   "metadata": {},
   "outputs": [],
   "source": [
    "# # df_2 = df_2[df_2['Entity'] != 'African Region (WHO)']\n",
    "\n",
    "# # df_2 = df_2[df_2['Entity'] != 'World Bank Upper Middle Income']\n",
    "\n",
    "# # df_2 = df_2[df_2['Entity'] != 'World Bank Lower Middle Income']\n",
    "\n",
    "# # df_2 = df_2[df_2['Entity'] != 'World Bank Low Income']\n",
    "\n",
    "# # df_2 = df_2[df_2['Entity'] != 'World Bank High Income']\n",
    "\n",
    "# # df_2 = df_2[df_2['Entity'] != 'World']\n",
    "\n",
    "# # df_2 = df_2[df_2['Entity'] != 'Western Pacific Region (WHO)']\n",
    "\n",
    "# # df_2 = df_2[df_2['Entity'] != 'East Asia & Pacific (WB)']\n",
    "\n",
    "# # df_2 = df_2[df_2['Entity'] != 'Eastern Mediterranean Region (WHO)']\n",
    "\n",
    "# # df_2 = df_2[df_2['Entity'] != 'Europe & Central Asia (WB)']\n",
    "\n",
    "# # df_2 = df_2[df_2['Entity'] != 'European Region (WHO)']\n",
    "\n",
    "# # df_2 = df_2[df_2['Entity'] != 'G20']\n",
    "\n",
    "# # df_2 = df_2[df_2['Entity'] != 'Latin America & Caribbean (WB)']\n",
    "\n",
    "# # df_2 = df_2[df_2['Entity'] != 'Middle East & North Africa (WB)']\n",
    "\n",
    "# # df_2 = df_2[df_2['Entity'] != 'North America (WB)']\n",
    "\n",
    "# # df_2 = df_2[df_2['Entity'] != 'OECD Countries']\n",
    "\n",
    "# # df_2 = df_2[df_2['Entity'] != 'Region of the Americas (WHO)']\n",
    "\n",
    "# df_2 = df_2[df_2['Entity'] != 'South Asia (WB)']\n",
    "\n",
    "# df_2 = df_2[df_2['Entity'] != 'South-East Asia Region (WHO)']\n",
    "\n",
    "# df_2 = df_2[df_2['Entity'] != 'Sub-Saharan Africa (WB)']"
   ]
  },
  {
   "cell_type": "code",
   "execution_count": null,
   "metadata": {},
   "outputs": [],
   "source": [
    "# # df_2.loc[(df_1['Entity'] == 'Cote d\\'Ivoire') & (df_2['Regional Indicator'] == 'Unknown'), 'Regional Indicator'] = 'Africa'\n",
    "\n",
    "# # df_2.loc[(df_1['Entity'] == 'Democratic Republic of Congo') & (df_2['Regional Indicator'] == 'Unknown'), 'Regional Indicator'] = 'Africa'\n",
    "\n",
    "# # df_2.loc[(df_1['Entity'] == 'England') & (df_2['Regional Indicator'] == 'Unknown'), 'Regional Indicator'] = 'Europe'\n",
    "\n",
    "# # df_2.loc[(df_2['Entity'] == 'Wales') & (df_2['Regional Indicator'] == 'Unknown'), 'Regional Indicator'] = 'Europe'\n",
    "\n",
    "# # df_2.loc[(df_2['Entity'] == 'Micronesia (country)') & (df_2['Regional Indicator'] == 'Unknown'), 'Regional Indicator'] = 'Oceania'\n",
    "\n",
    "\n",
    "# # df_2.loc[(df_2['Entity'] == 'Northern Ireland') & (df_2['Regional Indicator'] == 'Unknown'), 'Regional Indicator'] = 'Europe'\n",
    "\n",
    "# df_2.loc[(df_2['Entity'] == 'Scotland') & (df_2['Regional Indicator'] == 'Unknown'), 'Regional Indicator'] = 'Europe'\n",
    "\n",
    "# df_2.loc[(df_2['Entity'] == 'Timor') & (df_2['Regional Indicator'] == 'Unknown'), 'Regional Indicator'] = 'Asia'\n"
   ]
  },
  {
   "cell_type": "code",
   "execution_count": null,
   "metadata": {},
   "outputs": [],
   "source": [
    "df_2.to_csv('data/Data_limpia/Mental/prevalence_mental_disorders_total.csv')"
   ]
  },
  {
   "cell_type": "code",
   "execution_count": null,
   "metadata": {},
   "outputs": [],
   "source": [
    "df_mental_europe.head(34)"
   ]
  },
  {
   "cell_type": "code",
   "execution_count": 1,
   "metadata": {},
   "outputs": [],
   "source": [
    "import pandas as pd\n",
    "import numpy as np"
   ]
  },
  {
   "cell_type": "code",
   "execution_count": 3,
   "metadata": {},
   "outputs": [],
   "source": [
    "# # SEGUNDA PARTE DE LA LIMPIEZA\n",
    "# df_mental_general = pd.read_csv('data/Data_limpia/Mental/mental_disordes_general.csv')\n",
    "# df_mental_africa_middle_east = pd.read_csv('data/Data_limpia/Mental/mental_general_africa_middle_east.csv')\n",
    "# df_mental_general_america_oceania = pd.read_csv('data/Data_limpia/Mental/mental_general_america_oceania.csv')\n",
    "# df_mental_general_asia = pd.read_csv('data/Data_limpia/Mental/mental_general_asia.csv')\n",
    "df_prevalencia_mental = pd.read_csv('data/Data_limpia/Mental/prevalence_mental_disorders_total.csv')\n"
   ]
  },
  {
   "cell_type": "code",
   "execution_count": 5,
   "metadata": {},
   "outputs": [
    {
     "data": {
      "text/html": [
       "<div>\n",
       "<style scoped>\n",
       "    .dataframe tbody tr th:only-of-type {\n",
       "        vertical-align: middle;\n",
       "    }\n",
       "\n",
       "    .dataframe tbody tr th {\n",
       "        vertical-align: top;\n",
       "    }\n",
       "\n",
       "    .dataframe thead th {\n",
       "        text-align: right;\n",
       "    }\n",
       "</style>\n",
       "<table border=\"1\" class=\"dataframe\">\n",
       "  <thead>\n",
       "    <tr style=\"text-align: right;\">\n",
       "      <th></th>\n",
       "      <th>Entity</th>\n",
       "      <th>Regional Indicator</th>\n",
       "      <th>Year</th>\n",
       "      <th>Prevalence - Mental disorders - Sex: Both - Age: Age-standardized (Percent)</th>\n",
       "    </tr>\n",
       "  </thead>\n",
       "  <tbody>\n",
       "    <tr>\n",
       "      <th>0</th>\n",
       "      <td>Afghanistan</td>\n",
       "      <td>Asia</td>\n",
       "      <td>1990</td>\n",
       "      <td>16.659229</td>\n",
       "    </tr>\n",
       "    <tr>\n",
       "      <th>1</th>\n",
       "      <td>Afghanistan</td>\n",
       "      <td>Asia</td>\n",
       "      <td>1991</td>\n",
       "      <td>16.765052</td>\n",
       "    </tr>\n",
       "    <tr>\n",
       "      <th>2</th>\n",
       "      <td>Afghanistan</td>\n",
       "      <td>Asia</td>\n",
       "      <td>1992</td>\n",
       "      <td>16.874469</td>\n",
       "    </tr>\n",
       "    <tr>\n",
       "      <th>3</th>\n",
       "      <td>Afghanistan</td>\n",
       "      <td>Asia</td>\n",
       "      <td>1993</td>\n",
       "      <td>16.990720</td>\n",
       "    </tr>\n",
       "    <tr>\n",
       "      <th>4</th>\n",
       "      <td>Afghanistan</td>\n",
       "      <td>Asia</td>\n",
       "      <td>1994</td>\n",
       "      <td>17.112730</td>\n",
       "    </tr>\n",
       "    <tr>\n",
       "      <th>...</th>\n",
       "      <td>...</td>\n",
       "      <td>...</td>\n",
       "      <td>...</td>\n",
       "      <td>...</td>\n",
       "    </tr>\n",
       "    <tr>\n",
       "      <th>6175</th>\n",
       "      <td>Zimbabwe</td>\n",
       "      <td>Africa</td>\n",
       "      <td>2015</td>\n",
       "      <td>11.156429</td>\n",
       "    </tr>\n",
       "    <tr>\n",
       "      <th>6176</th>\n",
       "      <td>Zimbabwe</td>\n",
       "      <td>Africa</td>\n",
       "      <td>2016</td>\n",
       "      <td>11.164133</td>\n",
       "    </tr>\n",
       "    <tr>\n",
       "      <th>6177</th>\n",
       "      <td>Zimbabwe</td>\n",
       "      <td>Africa</td>\n",
       "      <td>2017</td>\n",
       "      <td>11.170427</td>\n",
       "    </tr>\n",
       "    <tr>\n",
       "      <th>6178</th>\n",
       "      <td>Zimbabwe</td>\n",
       "      <td>Africa</td>\n",
       "      <td>2018</td>\n",
       "      <td>11.158765</td>\n",
       "    </tr>\n",
       "    <tr>\n",
       "      <th>6179</th>\n",
       "      <td>Zimbabwe</td>\n",
       "      <td>Africa</td>\n",
       "      <td>2019</td>\n",
       "      <td>11.119021</td>\n",
       "    </tr>\n",
       "  </tbody>\n",
       "</table>\n",
       "<p>6180 rows × 4 columns</p>\n",
       "</div>"
      ],
      "text/plain": [
       "           Entity Regional Indicator  Year  \\\n",
       "0     Afghanistan               Asia  1990   \n",
       "1     Afghanistan               Asia  1991   \n",
       "2     Afghanistan               Asia  1992   \n",
       "3     Afghanistan               Asia  1993   \n",
       "4     Afghanistan               Asia  1994   \n",
       "...           ...                ...   ...   \n",
       "6175     Zimbabwe             Africa  2015   \n",
       "6176     Zimbabwe             Africa  2016   \n",
       "6177     Zimbabwe             Africa  2017   \n",
       "6178     Zimbabwe             Africa  2018   \n",
       "6179     Zimbabwe             Africa  2019   \n",
       "\n",
       "      Prevalence - Mental disorders - Sex: Both - Age: Age-standardized (Percent)  \n",
       "0                                             16.659229                            \n",
       "1                                             16.765052                            \n",
       "2                                             16.874469                            \n",
       "3                                             16.990720                            \n",
       "4                                             17.112730                            \n",
       "...                                                 ...                            \n",
       "6175                                          11.156429                            \n",
       "6176                                          11.164133                            \n",
       "6177                                          11.170427                            \n",
       "6178                                          11.158765                            \n",
       "6179                                          11.119021                            \n",
       "\n",
       "[6180 rows x 4 columns]"
      ]
     },
     "execution_count": 5,
     "metadata": {},
     "output_type": "execute_result"
    }
   ],
   "source": [
    "df_prevalencia_mental.drop(columns='Unnamed: 0', axis=1, inplace=True)\n",
    "df_prevalencia_mental"
   ]
  },
  {
   "cell_type": "code",
   "execution_count": 6,
   "metadata": {},
   "outputs": [],
   "source": [
    "# Voy a crear la segmentación para la prevalencia de enfermedades mentales por continentes\n",
    "# LLegado a este punto, decidí trabajar con está tabla que es más general, ya que el el fin del estudio no es desglozar los distintos tipos de Tx mentales\n",
    "# Sino constatar un poco su prevalencia en la población al rededor de los años\n"
   ]
  },
  {
   "cell_type": "code",
   "execution_count": 9,
   "metadata": {},
   "outputs": [],
   "source": [
    "# Empiezo con la segmentación por continente\n",
    "# Para df_mental_america_oceania\n",
    "america_oceania_2015 = df_mental_america_oceania.loc[df_mental_america_oceania['Year'] == 2015]\n",
    "america_oceania_2016 = df_mental_america_oceania.loc[df_mental_america_oceania['Year'] == 2016]\n",
    "america_oceania_2017 = df_mental_america_oceania.loc[df_mental_america_oceania['Year'] == 2017]\n",
    "america_oceania_2018 = df_mental_america_oceania.loc[df_mental_america_oceania['Year'] == 2018]\n",
    "america_oceania_2019 = df_mental_america_oceania.loc[df_mental_america_oceania['Year'] == 2019]\n",
    "\n",
    "# Para df_mental_africa_middle_east\n",
    "africa_middle_east_2015 = df_mental_africa_middle_east.loc[df_mental_africa_middle_east['Year'] == 2015]\n",
    "africa_middle_east_2016 = df_mental_africa_middle_east.loc[df_mental_africa_middle_east['Year'] == 2016]\n",
    "africa_middle_east_2017 = df_mental_africa_middle_east.loc[df_mental_africa_middle_east['Year'] == 2017]\n",
    "africa_middle_east_2018 = df_mental_africa_middle_east.loc[df_mental_africa_middle_east['Year'] == 2018]\n",
    "africa_middle_east_2019 = df_mental_africa_middle_east.loc[df_mental_africa_middle_east['Year'] == 2019]\n",
    "\n",
    "# Para df_mental_europe\n",
    "europe_2015 = df_mental_europe.loc[df_mental_europe['Year'] == 2015]\n",
    "europe_2016 = df_mental_europe.loc[df_mental_europe['Year'] == 2016]\n",
    "europe_2017 = df_mental_europe.loc[df_mental_europe['Year'] == 2017]\n",
    "europe_2018 = df_mental_europe.loc[df_mental_europe['Year'] == 2018]\n",
    "europe_2019 = df_mental_europe.loc[df_mental_europe['Year'] == 2019]\n",
    "\n",
    "# Para df_mental_asia\n",
    "asia_2015 = df_mental_asia.loc[df_mental_asia['Year'] == 2015]\n",
    "asia_2016 = df_mental_asia.loc[df_mental_asia['Year'] == 2016]\n",
    "asia_2017 = df_mental_asia.loc[df_mental_asia['Year'] == 2017]\n",
    "asia_2018 = df_mental_asia.loc[df_mental_asia['Year'] == 2018]\n",
    "asia_2019 = df_mental_asia.loc[df_mental_asia['Year'] == 2019]\n",
    "\n"
   ]
  },
  {
   "cell_type": "code",
   "execution_count": 8,
   "metadata": {},
   "outputs": [],
   "source": [
    "# df_mental_america_oceania.to_csv('data/Data_limpia/Mental/mental_prevalencia_america_oceania.csv')\n",
    "# df_mental_africa_middle_east.to_csv('data/Data_limpia/Mental/mental_prevalencia_africa_middle_east.csv')\n",
    "# df_mental_asia.to_csv('data/Data_limpia/Mental/mental_prevalencia_asia.csv')\n",
    "# df_mental_europe.to_csv('data/Data_limpia/Mental/mental_prevalencia_europe.csv')"
   ]
  },
  {
   "cell_type": "code",
   "execution_count": 10,
   "metadata": {},
   "outputs": [],
   "source": [
    "# # Me guardo a CSV los DF segmentados\n",
    "\n",
    "# # America and Oceania\n",
    "# america_oceania_2015.to_csv('data/Data_limpia/Mental/df_mental_america_oceania_2015.csv', index=False)\n",
    "# america_oceania_2016.to_csv('data/Data_limpia/Mental/df_mental_america_oceania_2016.csv', index=False)\n",
    "# america_oceania_2017.to_csv('data/Data_limpia/Mental/df_mental_america_oceania_2017.csv', index=False)\n",
    "# america_oceania_2018.to_csv('data/Data_limpia/Mental/df_mental_america_oceania_2018.csv', index=False)\n",
    "# america_oceania_2019.to_csv('data/Data_limpia/Mental/df_mental_america_oceania_2019.csv', index=False)\n",
    "\n",
    "# # Africa and Middle East\n",
    "# africa_middle_east_2015.to_csv('data/Data_limpia/Mental/df_mental_africa_middle_east_2015.csv', index=False)\n",
    "# africa_middle_east_2016.to_csv('data/Data_limpia/Mental/df_mental_africa_middle_east_2016.csv', index=False)\n",
    "# africa_middle_east_2017.to_csv('data/Data_limpia/Mental/df_mental_africa_middle_east_2017.csv', index=False)\n",
    "# africa_middle_east_2018.to_csv('data/Data_limpia/Mental/df_mental_africa_middle_east_2018.csv', index=False)\n",
    "# africa_middle_east_2019.to_csv('data/Data_limpia/Mental/df_mental_africa_middle_east_2019.csv', index=False)\n",
    "\n",
    "# # Europe\n",
    "# europe_2015.to_csv('data/Data_limpia/Mental/df_mental_europe_2015.csv', index=False)\n",
    "# europe_2016.to_csv('data/Data_limpia/Mental/df_mental_europe_2016.csv', index=False)\n",
    "# europe_2017.to_csv('data/Data_limpia/Mental/df_mental_europe_2017.csv', index=False)\n",
    "# europe_2018.to_csv('data/Data_limpia/Mental/df_mental_europe_2018.csv', index=False)\n",
    "# europe_2019.to_csv('data/Data_limpia/Mental/df_mental_europe_2019.csv', index=False)\n",
    "\n",
    "# # Asia\n",
    "# asia_2015.to_csv('data/Data_limpia/Mental/df_mental_asia_2015.csv', index=False)\n",
    "# asia_2016.to_csv('data/Data_limpia/Mental/df_mental_asia_2016.csv', index=False)\n",
    "# asia_2017.to_csv('data/Data_limpia/Mental/df_mental_asia_2017.csv', index=False)\n",
    "# asia_2018.to_csv('data/Data_limpia/Mental/df_mental_asia_2018.csv', index=False)\n",
    "# asia_2019.to_csv('data/Data_limpia/Mental/df_mental_asia_2019.csv', index=False)\n",
    "\n"
   ]
  }
 ],
 "metadata": {
  "kernelspec": {
   "display_name": "Python 3",
   "language": "python",
   "name": "python3"
  },
  "language_info": {
   "codemirror_mode": {
    "name": "ipython",
    "version": 3
   },
   "file_extension": ".py",
   "mimetype": "text/x-python",
   "name": "python",
   "nbconvert_exporter": "python",
   "pygments_lexer": "ipython3",
   "version": "3.11.4"
  }
 },
 "nbformat": 4,
 "nbformat_minor": 2
}
